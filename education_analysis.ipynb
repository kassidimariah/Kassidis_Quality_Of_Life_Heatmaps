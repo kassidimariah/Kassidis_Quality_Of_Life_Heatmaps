{
 "cells": [
  {
   "cell_type": "markdown",
   "metadata": {},
   "source": [
    "## CEJST Education Metrics Analysis\n",
    "\n",
    "### 1. Objective\n",
    "    Assess the level of educational attainment across counties.\n",
    "\n",
    "    Compare educational outcomes (e.g., high school diploma attainment, higher education rates) across racial and socioeconomic groups.\n",
    "    \n",
    "    Highlight disparities and patterns in education metrics for policymaking and resource allocation.\n",
    "\n",
    "### 2. Tools and Libraries Used\n",
    "    Pandas: For data manipulation and preprocessing.\n",
    "\n",
    "    GeoPandas: For spatial data handling and geographic visualizations.\n",
    "\n",
    "    Matplotlib and Seaborn: For plotting and data visualization.\n",
    "\n",
    "    Folium: For creating interactive geographic maps.\n",
    "\n",
    "    Scikit-learn: Specifically for scaling the education metrics.\n",
    "\n",
    "    Shapely: For geometric operations such as merging county shapes.\n",
    "    \n",
    "3. Dataset Description\n",
    "Education Metrics Data: Includes variables such as:\n",
    "Percentage of adults with less than a high school diploma.\n",
    "Percentage of adults with a high school diploma or equivalent.\n",
    "Percentage of adults with a bachelor's degree or higher.\n",
    "CEJST Shapefile: A GeoDataFrame containing geographic data for census tracts, filtered to focus on specific states (e.g., Tennessee).\n",
    "4. Data Preprocessing\n",
    "Imported the education metrics dataset and filtered geographic shapefile data for relevant states to improve computational efficiency.\n",
    "Merged the shapefile data with education metrics based on geographic keys (NAMELSADCO).\n",
    "Converted the merged dataset into a GeoDataFrame for spatial analysis.\n",
    "5. Data Normalization\n",
    "Used MinMaxScaler from Scikit-learn to normalize key education indicators:\n",
    "\n",
    "Percentage of adults with less than a high school diploma.\n",
    "Percentage of adults with a high school diploma or equivalent.\n",
    "Percentage of adults with a bachelor's degree or higher.\n",
    "6. Calculating the Education Score\n",
    "A composite Education Score was calculated by averaging the normalized education metrics, providing an overall indicator of education outcomes per region.\n",
    "7. Data Aggregation\n",
    "Counties were aggregated using:\n",
    "\n",
    "Demographic and education metrics: Averages calculated across tracts.\n",
    "Geometric aggregation: Combined spatial data using the unary_union function from Shapely.\n",
    "8. Visualizations\n",
    "Interactive Maps:\n",
    "Created layered maps using Folium to visualize the Education Score and percentage of adults with a bachelor's degree or higher.\n",
    "Enabled interactivity with tooltips and layer toggles.\n",
    "Bar Charts:\n",
    "Highlighted the top 5 counties with the highest percentage of adults holding a bachelor's degree or higher using horizontal bar charts.\n",
    "Histograms:\n",
    "Displayed the distribution of education scores to identify patterns and outliers."
   ]
  },
  {
   "cell_type": "code",
   "execution_count": 11,
   "metadata": {},
   "outputs": [],
   "source": [
    "import pandas as pd\n",
    "import numpy as np\n",
    "import seaborn as sns\n",
    "import geopandas as gpd\n",
    "import matplotlib.pyplot as plt\n",
    "%matplotlib inline\n",
    "import matplotlib.colors as colors\n",
    "import matplotlib.patches as mpatches\n",
    "from pandas import cut\n",
    "from matplotlib import colormaps as cmap\n",
    "import folium\n",
    "from shapely.ops import unary_union\n",
    "\n",
    "%matplotlib inline\n",
    "plt.rcParams['figure.figsize'] = (10, 8)\n",
    "plt.style.use(\"ggplot\")"
   ]
  },
  {
   "cell_type": "code",
   "execution_count": 12,
   "metadata": {},
   "outputs": [],
   "source": [
    "edu_cols = [\n",
    "    'Census tract 2010 ID', \n",
    "    'County Name', \n",
    "    'State/Territory',\n",
    "    'Total population', \n",
    "    'Percent American Indian / Alaska Native', \n",
    "    'Percent Asian', 'Percent Black or African American alone', \n",
    "    'Percent Hispanic or Latino', \n",
    "    'Percent Native Hawaiian or Pacific',\n",
    "    'Percent other races', \n",
    "    'Percent White',\n",
    "    'Percent individuals age 25 or over with less than high school degree',\n",
    "    'Percent of residents who are not currently enrolled in higher ed', \n",
    "    'Is there at least one abandoned mine in this census tract?',\n",
    "    'Percent age 10 to 64', \n",
    "    'Percent age over 64', \n",
    "    'Percent age under 10'\n",
    "]"
   ]
  },
  {
   "cell_type": "code",
   "execution_count": 13,
   "metadata": {},
   "outputs": [
    {
     "name": "stderr",
     "output_type": "stream",
     "text": [
      "C:\\Users\\Kassidi\\AppData\\Local\\Temp\\ipykernel_20564\\3781865900.py:1: DtypeWarning: Columns (85) have mixed types. Specify dtype option on import or set low_memory=False.\n",
      "  edu_stats = pd.read_csv(r\"C:\\\\New_499_Code\\\\499_Cleaned_Abbreviated_CEJST_Disadvantaged_Communities_Data.csv\", usecols=edu_cols)\n"
     ]
    },
    {
     "data": {
      "text/html": [
       "<div>\n",
       "<style scoped>\n",
       "    .dataframe tbody tr th:only-of-type {\n",
       "        vertical-align: middle;\n",
       "    }\n",
       "\n",
       "    .dataframe tbody tr th {\n",
       "        vertical-align: top;\n",
       "    }\n",
       "\n",
       "    .dataframe thead th {\n",
       "        text-align: right;\n",
       "    }\n",
       "</style>\n",
       "<table border=\"1\" class=\"dataframe\">\n",
       "  <thead>\n",
       "    <tr style=\"text-align: right;\">\n",
       "      <th></th>\n",
       "      <th>Census tract 2010 ID</th>\n",
       "      <th>County Name</th>\n",
       "      <th>State/Territory</th>\n",
       "      <th>Percent Black or African American alone</th>\n",
       "      <th>Percent American Indian / Alaska Native</th>\n",
       "      <th>Percent Asian</th>\n",
       "      <th>Percent Native Hawaiian or Pacific</th>\n",
       "      <th>Percent White</th>\n",
       "      <th>Percent Hispanic or Latino</th>\n",
       "      <th>Percent other races</th>\n",
       "      <th>Percent age under 10</th>\n",
       "      <th>Percent age 10 to 64</th>\n",
       "      <th>Percent age over 64</th>\n",
       "      <th>Total population</th>\n",
       "      <th>Is there at least one abandoned mine in this census tract?</th>\n",
       "      <th>Percent individuals age 25 or over with less than high school degree</th>\n",
       "      <th>Percent of residents who are not currently enrolled in higher ed</th>\n",
       "    </tr>\n",
       "  </thead>\n",
       "  <tbody>\n",
       "    <tr>\n",
       "      <th>0</th>\n",
       "      <td>1001020100</td>\n",
       "      <td>Autauga County</td>\n",
       "      <td>Alabama</td>\n",
       "      <td>0.07</td>\n",
       "      <td>0.0</td>\n",
       "      <td>0.0</td>\n",
       "      <td>0.00</td>\n",
       "      <td>0.83</td>\n",
       "      <td>0.01</td>\n",
       "      <td>0.0</td>\n",
       "      <td>0.10</td>\n",
       "      <td>0.76</td>\n",
       "      <td>0.13</td>\n",
       "      <td>1993.0</td>\n",
       "      <td>NaN</td>\n",
       "      <td>12.0</td>\n",
       "      <td>91.0</td>\n",
       "    </tr>\n",
       "    <tr>\n",
       "      <th>1</th>\n",
       "      <td>1001020200</td>\n",
       "      <td>Autauga County</td>\n",
       "      <td>Alabama</td>\n",
       "      <td>0.57</td>\n",
       "      <td>0.0</td>\n",
       "      <td>0.0</td>\n",
       "      <td>0.01</td>\n",
       "      <td>0.38</td>\n",
       "      <td>0.01</td>\n",
       "      <td>0.0</td>\n",
       "      <td>0.12</td>\n",
       "      <td>0.73</td>\n",
       "      <td>0.14</td>\n",
       "      <td>1959.0</td>\n",
       "      <td>NaN</td>\n",
       "      <td>14.0</td>\n",
       "      <td>96.0</td>\n",
       "    </tr>\n",
       "  </tbody>\n",
       "</table>\n",
       "</div>"
      ],
      "text/plain": [
       "   Census tract 2010 ID     County Name State/Territory  \\\n",
       "0            1001020100  Autauga County         Alabama   \n",
       "1            1001020200  Autauga County         Alabama   \n",
       "\n",
       "   Percent Black or African American alone  \\\n",
       "0                                     0.07   \n",
       "1                                     0.57   \n",
       "\n",
       "   Percent American Indian / Alaska Native  Percent Asian  \\\n",
       "0                                      0.0            0.0   \n",
       "1                                      0.0            0.0   \n",
       "\n",
       "   Percent Native Hawaiian or Pacific  Percent White  \\\n",
       "0                                0.00           0.83   \n",
       "1                                0.01           0.38   \n",
       "\n",
       "   Percent Hispanic or Latino  Percent other races  Percent age under 10  \\\n",
       "0                        0.01                  0.0                  0.10   \n",
       "1                        0.01                  0.0                  0.12   \n",
       "\n",
       "   Percent age 10 to 64  Percent age over 64  Total population  \\\n",
       "0                  0.76                 0.13            1993.0   \n",
       "1                  0.73                 0.14            1959.0   \n",
       "\n",
       "  Is there at least one abandoned mine in this census tract?  \\\n",
       "0                                                NaN           \n",
       "1                                                NaN           \n",
       "\n",
       "   Percent individuals age 25 or over with less than high school degree  \\\n",
       "0                                               12.0                      \n",
       "1                                               14.0                      \n",
       "\n",
       "   Percent of residents who are not currently enrolled in higher ed  \n",
       "0                                               91.0                 \n",
       "1                                               96.0                 "
      ]
     },
     "execution_count": 13,
     "metadata": {},
     "output_type": "execute_result"
    }
   ],
   "source": [
    "edu_stats = pd.read_csv(r\"C:\\\\New_499_Code\\\\499_Cleaned_Abbreviated_CEJST_Disadvantaged_Communities_Data.csv\", usecols=edu_cols)\n",
    "edu_stats.head(2)"
   ]
  },
  {
   "cell_type": "code",
   "execution_count": null,
   "metadata": {},
   "outputs": [
    {
     "data": {
      "text/html": [
       "<div>\n",
       "<style scoped>\n",
       "    .dataframe tbody tr th:only-of-type {\n",
       "        vertical-align: middle;\n",
       "    }\n",
       "\n",
       "    .dataframe tbody tr th {\n",
       "        vertical-align: top;\n",
       "    }\n",
       "\n",
       "    .dataframe thead th {\n",
       "        text-align: right;\n",
       "    }\n",
       "</style>\n",
       "<table border=\"1\" class=\"dataframe\">\n",
       "  <thead>\n",
       "    <tr style=\"text-align: right;\">\n",
       "      <th></th>\n",
       "      <th>STATEFP</th>\n",
       "      <th>COUNTYFP</th>\n",
       "      <th>TRACTCE</th>\n",
       "      <th>AFFGEOID</th>\n",
       "      <th>GEOID</th>\n",
       "      <th>NAME</th>\n",
       "      <th>NAMELSAD</th>\n",
       "      <th>STUSPS</th>\n",
       "      <th>NAMELSADCO</th>\n",
       "      <th>STATE_NAME</th>\n",
       "      <th>LSAD</th>\n",
       "      <th>ALAND</th>\n",
       "      <th>AWATER</th>\n",
       "      <th>geometry</th>\n",
       "    </tr>\n",
       "  </thead>\n",
       "  <tbody>\n",
       "    <tr>\n",
       "      <th>24</th>\n",
       "      <td>51</td>\n",
       "      <td>047</td>\n",
       "      <td>930400</td>\n",
       "      <td>1400000US51047930400</td>\n",
       "      <td>51047930400</td>\n",
       "      <td>9304</td>\n",
       "      <td>Census Tract 9304</td>\n",
       "      <td>VA</td>\n",
       "      <td>Culpeper County</td>\n",
       "      <td>Virginia</td>\n",
       "      <td>CT</td>\n",
       "      <td>320115131</td>\n",
       "      <td>3342978</td>\n",
       "      <td>POLYGON ((-77.99564 38.47463, -77.99117 38.473...</td>\n",
       "    </tr>\n",
       "    <tr>\n",
       "      <th>113</th>\n",
       "      <td>21</td>\n",
       "      <td>205</td>\n",
       "      <td>950302</td>\n",
       "      <td>1400000US21205950302</td>\n",
       "      <td>21205950302</td>\n",
       "      <td>9503.02</td>\n",
       "      <td>Census Tract 9503.02</td>\n",
       "      <td>KY</td>\n",
       "      <td>Rowan County</td>\n",
       "      <td>Kentucky</td>\n",
       "      <td>CT</td>\n",
       "      <td>147818267</td>\n",
       "      <td>13764911</td>\n",
       "      <td>POLYGON ((-83.55783 38.11808, -83.55600 38.119...</td>\n",
       "    </tr>\n",
       "  </tbody>\n",
       "</table>\n",
       "</div>"
      ],
      "text/plain": [
       "    STATEFP COUNTYFP TRACTCE              AFFGEOID        GEOID     NAME  \\\n",
       "24       51      047  930400  1400000US51047930400  51047930400     9304   \n",
       "113      21      205  950302  1400000US21205950302  21205950302  9503.02   \n",
       "\n",
       "                 NAMELSAD STUSPS       NAMELSADCO STATE_NAME LSAD      ALAND  \\\n",
       "24      Census Tract 9304     VA  Culpeper County   Virginia   CT  320115131   \n",
       "113  Census Tract 9503.02     KY     Rowan County   Kentucky   CT  147818267   \n",
       "\n",
       "       AWATER                                           geometry  \n",
       "24    3342978  POLYGON ((-77.99564 38.47463, -77.99117 38.473...  \n",
       "113  13764911  POLYGON ((-83.55783 38.11808, -83.55600 38.119...  "
      ]
     },
     "execution_count": 14,
     "metadata": {},
     "output_type": "execute_result"
    }
   ],
   "source": [
    "CEJST_shapefile_path = r\"C:\\New_499_Code\\assets\\cb_2021_us_tract_500k\\cb_2021_us_tract_500k.shp\"\n",
    "CEJST_Shapefile = gpd.read_file(CEJST_shapefile_path)\n",
    "\n",
    "#Filter the GeoDataFrame because it takes 20 minutes to run otherwise\n",
    "filtered_CEJST_Shapefile = CEJST_Shapefile[CEJST_Shapefile['STATE_NAME'].isin(['Tennessee', 'Kentucky', 'West Virginia', 'Virginia'])]\n",
    "filtered_CEJST_Shapefile.head(2)"
   ]
  },
  {
   "cell_type": "code",
   "execution_count": 15,
   "metadata": {},
   "outputs": [
    {
     "data": {
      "text/html": [
       "<div>\n",
       "<style scoped>\n",
       "    .dataframe tbody tr th:only-of-type {\n",
       "        vertical-align: middle;\n",
       "    }\n",
       "\n",
       "    .dataframe tbody tr th {\n",
       "        vertical-align: top;\n",
       "    }\n",
       "\n",
       "    .dataframe thead th {\n",
       "        text-align: right;\n",
       "    }\n",
       "</style>\n",
       "<table border=\"1\" class=\"dataframe\">\n",
       "  <thead>\n",
       "    <tr style=\"text-align: right;\">\n",
       "      <th></th>\n",
       "      <th>STATEFP</th>\n",
       "      <th>COUNTYFP</th>\n",
       "      <th>TRACTCE</th>\n",
       "      <th>AFFGEOID</th>\n",
       "      <th>GEOID</th>\n",
       "      <th>NAME</th>\n",
       "      <th>NAMELSAD</th>\n",
       "      <th>STUSPS</th>\n",
       "      <th>NAMELSADCO</th>\n",
       "      <th>STATE_NAME</th>\n",
       "      <th>...</th>\n",
       "      <th>Percent White</th>\n",
       "      <th>Percent Hispanic or Latino</th>\n",
       "      <th>Percent other races</th>\n",
       "      <th>Percent age under 10</th>\n",
       "      <th>Percent age 10 to 64</th>\n",
       "      <th>Percent age over 64</th>\n",
       "      <th>Total population</th>\n",
       "      <th>Is there at least one abandoned mine in this census tract?</th>\n",
       "      <th>Percent individuals age 25 or over with less than high school degree</th>\n",
       "      <th>Percent of residents who are not currently enrolled in higher ed</th>\n",
       "    </tr>\n",
       "  </thead>\n",
       "  <tbody>\n",
       "    <tr>\n",
       "      <th>0</th>\n",
       "      <td>51</td>\n",
       "      <td>047</td>\n",
       "      <td>930400</td>\n",
       "      <td>1400000US51047930400</td>\n",
       "      <td>51047930400</td>\n",
       "      <td>9304</td>\n",
       "      <td>Census Tract 9304</td>\n",
       "      <td>VA</td>\n",
       "      <td>Culpeper County</td>\n",
       "      <td>Virginia</td>\n",
       "      <td>...</td>\n",
       "      <td>0.77</td>\n",
       "      <td>0.05</td>\n",
       "      <td>0.01</td>\n",
       "      <td>0.14</td>\n",
       "      <td>0.7</td>\n",
       "      <td>0.14</td>\n",
       "      <td>4162.0</td>\n",
       "      <td>NaN</td>\n",
       "      <td>16.0</td>\n",
       "      <td>96.0</td>\n",
       "    </tr>\n",
       "    <tr>\n",
       "      <th>1</th>\n",
       "      <td>51</td>\n",
       "      <td>047</td>\n",
       "      <td>930400</td>\n",
       "      <td>1400000US51047930400</td>\n",
       "      <td>51047930400</td>\n",
       "      <td>9304</td>\n",
       "      <td>Census Tract 9304</td>\n",
       "      <td>VA</td>\n",
       "      <td>Culpeper County</td>\n",
       "      <td>Virginia</td>\n",
       "      <td>...</td>\n",
       "      <td>0.85</td>\n",
       "      <td>0.05</td>\n",
       "      <td>0.01</td>\n",
       "      <td>0.10</td>\n",
       "      <td>0.7</td>\n",
       "      <td>0.19</td>\n",
       "      <td>8991.0</td>\n",
       "      <td>NaN</td>\n",
       "      <td>9.0</td>\n",
       "      <td>95.0</td>\n",
       "    </tr>\n",
       "  </tbody>\n",
       "</table>\n",
       "<p>2 rows × 31 columns</p>\n",
       "</div>"
      ],
      "text/plain": [
       "  STATEFP COUNTYFP TRACTCE              AFFGEOID        GEOID  NAME  \\\n",
       "0      51      047  930400  1400000US51047930400  51047930400  9304   \n",
       "1      51      047  930400  1400000US51047930400  51047930400  9304   \n",
       "\n",
       "            NAMELSAD STUSPS       NAMELSADCO STATE_NAME  ... Percent White  \\\n",
       "0  Census Tract 9304     VA  Culpeper County   Virginia  ...          0.77   \n",
       "1  Census Tract 9304     VA  Culpeper County   Virginia  ...          0.85   \n",
       "\n",
       "   Percent Hispanic or Latino  Percent other races Percent age under 10  \\\n",
       "0                        0.05                 0.01                 0.14   \n",
       "1                        0.05                 0.01                 0.10   \n",
       "\n",
       "   Percent age 10 to 64 Percent age over 64 Total population  \\\n",
       "0                   0.7                0.14           4162.0   \n",
       "1                   0.7                0.19           8991.0   \n",
       "\n",
       "   Is there at least one abandoned mine in this census tract?  \\\n",
       "0                                                NaN            \n",
       "1                                                NaN            \n",
       "\n",
       "   Percent individuals age 25 or over with less than high school degree  \\\n",
       "0                                               16.0                      \n",
       "1                                                9.0                      \n",
       "\n",
       "   Percent of residents who are not currently enrolled in higher ed  \n",
       "0                                               96.0                 \n",
       "1                                               95.0                 \n",
       "\n",
       "[2 rows x 31 columns]"
      ]
     },
     "execution_count": 15,
     "metadata": {},
     "output_type": "execute_result"
    }
   ],
   "source": [
    "#merge the environmental data with the shapefile, keep all columns \n",
    "edu_stats = filtered_CEJST_Shapefile.merge(edu_stats, left_on='NAMELSADCO', right_on='County Name', how='left')\n",
    "edu_stats.head(2)"
   ]
  },
  {
   "cell_type": "code",
   "execution_count": 16,
   "metadata": {},
   "outputs": [
    {
     "data": {
      "text/plain": [
       "geopandas.geodataframe.GeoDataFrame"
      ]
     },
     "execution_count": 16,
     "metadata": {},
     "output_type": "execute_result"
    }
   ],
   "source": [
    "#check to see if edu_stats is a geoDataFrame\n",
    "type(edu_stats)"
   ]
  },
  {
   "cell_type": "code",
   "execution_count": 17,
   "metadata": {},
   "outputs": [],
   "source": [
    "edu_stats_filtered = edu_stats[edu_stats['STATE_NAME'].isin(['Tennessee', 'Kentucky', 'West Virginia'])]"
   ]
  },
  {
   "cell_type": "code",
   "execution_count": 18,
   "metadata": {},
   "outputs": [
    {
     "name": "stdout",
     "output_type": "stream",
     "text": [
      "EPSG:4269\n"
     ]
    }
   ],
   "source": [
    "print(edu_stats.crs)"
   ]
  },
  {
   "cell_type": "code",
   "execution_count": 19,
   "metadata": {},
   "outputs": [
    {
     "name": "stderr",
     "output_type": "stream",
     "text": [
      "C:\\Users\\Kassidi\\AppData\\Local\\Temp\\ipykernel_20564\\2876910064.py:2: FutureWarning: DataFrame.applymap has been deprecated. Use DataFrame.map instead.\n",
      "  edu_stats = edu_stats.applymap(lambda x: 1 if x is True else (0 if x is False else x))\n"
     ]
    },
    {
     "name": "stdout",
     "output_type": "stream",
     "text": [
      "        Census tract 2010 ID      County Name  Education Score\n",
      "0                51047930101  Culpeper County              NaN\n",
      "1                51047930102  Culpeper County              NaN\n",
      "2                51047930201  Culpeper County              NaN\n",
      "3                51047930202  Culpeper County              NaN\n",
      "4                51047930300  Culpeper County              NaN\n",
      "...                      ...              ...              ...\n",
      "877224           54011010500    Cabell County              NaN\n",
      "877225           54011010600    Cabell County              NaN\n",
      "877226           54011010700    Cabell County              NaN\n",
      "877227           54011010800    Cabell County              NaN\n",
      "877228           54011010900    Cabell County              NaN\n",
      "\n",
      "[877229 rows x 3 columns]\n"
     ]
    }
   ],
   "source": [
    "from sklearn.preprocessing import MinMaxScaler\n",
    "edu_stats = edu_stats.applymap(lambda x: 1 if x is True else (0 if x is False else x))\n",
    "\n",
    "#normalize \n",
    "scaler = MinMaxScaler()\n",
    "\n",
    "columns_to_scale = [\n",
    "    'Percent individuals age 25 or over with less than high school degree',\n",
    "    'Percent of residents who are not currently enrolled in higher ed', \n",
    "    'Is there at least one abandoned mine in this census tract?'\n",
    "]\n",
    "\n",
    "#scaley \n",
    "edu_stats[columns_to_scale] = scaler.fit_transform(edu_stats[columns_to_scale])                                                                                                                                                              \n",
    "\n",
    "edu_stats['Education Score'] = (\n",
    "    edu_stats['Percent individuals age 25 or over with less than high school degree'] +\n",
    "    edu_stats['Percent of residents who are not currently enrolled in higher ed'] +\n",
    "    edu_stats['Is there at least one abandoned mine in this census tract?'] \n",
    ") / 3 \n",
    "\n",
    "print(edu_stats[['Census tract 2010 ID', 'County Name', 'Education Score']])"
   ]
  },
  {
   "cell_type": "code",
   "execution_count": 20,
   "metadata": {},
   "outputs": [
    {
     "data": {
      "text/plain": [
       "geopandas.geodataframe.GeoDataFrame"
      ]
     },
     "execution_count": 20,
     "metadata": {},
     "output_type": "execute_result"
    }
   ],
   "source": [
    "edu_stats_copy = edu_stats.copy()\n",
    "\n",
    "edu_stats_copy = edu_stats_copy.groupby(['County Name', 'State/Territory']).agg(\n",
    "    {\n",
    "        'Total population': 'mean',\n",
    "        'Percent American Indian / Alaska Native': 'mean',\n",
    "        'Percent Asian': 'mean',\n",
    "        'Percent Black or African American alone': 'mean',\n",
    "        'Percent Hispanic or Latino': 'mean',\n",
    "        'Percent Native Hawaiian or Pacific': 'mean',\n",
    "        'geometry': lambda x: unary_union(x),  # Combine multiple geometries\n",
    "        'Percent individuals age 25 or over with less than high school degree': 'mean',\n",
    "        'Percent of residents who are not currently enrolled in higher ed': 'mean', \n",
    "        'Is there at least one abandoned mine in this census tract?': 'mean',\n",
    "        'Percent age 10 to 64': 'mean',\n",
    "        'Percent age over 64': 'mean',\n",
    "        'Percent age under 10': 'mean',\n",
    "        'Education Score': 'mean'\n",
    "    }\n",
    ").reset_index()\n",
    "\n",
    "edu_stats_copy = gpd.GeoDataFrame(edu_stats_copy)\n",
    "\n",
    "type(edu_stats_copy)"
   ]
  },
  {
   "cell_type": "code",
   "execution_count": 21,
   "metadata": {},
   "outputs": [
    {
     "data": {
      "image/png": "[encoded data removed]",
      "text/plain": [
       "<Figure size 1000x800 with 1 Axes>"
      ]
     },
     "metadata": {},
     "output_type": "display_data"
    }
   ],
   "source": [
    "#top 5 counties with highest education scores\n",
    "top_5_education = edu_stats_copy.nlargest(5, 'Education Score')\n",
    "top_5_education = top_5_education.sort_values('Education Score', ascending=True)\n",
    "\n",
    "plt.barh(top_5_education['County Name'], top_5_education['Education Score'], color='skyblue')\n",
    "plt.xlabel('Education Score')\n",
    "plt.ylabel('County Name')\n",
    "plt.title('Top 5 Counties with Highest Education Scores')\n",
    "plt.show()"
   ]
  },
  {
   "cell_type": "code",
   "execution_count": 22,
   "metadata": {},
   "outputs": [
    {
     "data": {
      "image/png": "[encoded data removed]",
      "text/plain": [
       "<Figure size 1000x800 with 1 Axes>"
      ]
     },
     "metadata": {},
     "output_type": "display_data"
    }
   ],
   "source": [
    "plt.hist(edu_stats_copy['Education Score'], bins=20, color='purple')\n",
    "plt.xlabel('Education Score')\n",
    "plt.ylabel('Frequency')\n",
    "plt.title('Distribution of Education Scores')\n",
    "plt.show()"
   ]
  },
  {
   "cell_type": "code",
   "execution_count": null,
   "metadata": {},
   "outputs": [],
   "source": []
  }
 ],
 "metadata": {
  "kernelspec": {
   "display_name": "Spring2024Env",
   "language": "python",
   "name": "python3"
  },
  "language_info": {
   "codemirror_mode": {
    "name": "ipython",
    "version": 3
   },
   "file_extension": ".py",
   "mimetype": "text/x-python",
   "name": "python",
   "nbconvert_exporter": "python",
   "pygments_lexer": "ipython3",
   "version": "3.10.5"
  }
 },
 "nbformat": 4,
 "nbformat_minor": 2
}
